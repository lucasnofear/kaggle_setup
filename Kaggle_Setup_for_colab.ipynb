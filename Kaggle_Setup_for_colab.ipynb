{
  "nbformat": 4,
  "nbformat_minor": 0,
  "metadata": {
    "colab": {
      "name": "Kaggle_Setup_for_colab.ipynb",
      "provenance": []
    },
    "kernelspec": {
      "name": "python3",
      "display_name": "Python 3"
    }
  },
  "cells": [
    {
      "cell_type": "markdown",
      "metadata": {
        "id": "kzIiulJBsM7V",
        "colab_type": "text"
      },
      "source": [
        "**Set up working environment and download dataset from Kaggle**"
      ]
    },
    {
      "cell_type": "code",
      "metadata": {
        "id": "Jddo4aHIqVkm",
        "colab_type": "code",
        "colab": {
          "base_uri": "https://localhost:8080/",
          "height": 34
        },
        "outputId": "ee1da2d0-eff8-496d-9a4e-0ac3a85f3f73"
      },
      "source": [
        "# setup access to google drive to store dataset and access Kaggle API key\n",
        "from google.colab import drive\n",
        "drive.mount('/content/drive')"
      ],
      "execution_count": null,
      "outputs": [
        {
          "output_type": "stream",
          "text": [
            "Mounted at /content/drive\n"
          ],
          "name": "stdout"
        }
      ]
    },
    {
      "cell_type": "code",
      "metadata": {
        "id": "yMMrKe07ugcD",
        "colab_type": "code",
        "colab": {}
      },
      "source": [
        "# set API access path, API key is stored in the path\n",
        "import os\n",
        "os.environ['KAGGLE_CONFIG_DIR'] = \"/content/drive/My Drive/kaggle/\""
      ],
      "execution_count": null,
      "outputs": []
    },
    {
      "cell_type": "code",
      "metadata": {
        "id": "s3JAwnIZsEYA",
        "colab_type": "code",
        "colab": {}
      },
      "source": [
        "# Download dataset\n",
        "!kaggle competitions download -c tweet-sentiment-extraction -p /content/drive/My\\ Drive/kaggle/TweetSentiment"
      ],
      "execution_count": null,
      "outputs": []
    },
    {
      "cell_type": "code",
      "metadata": {
        "id": "CH6kxSZ2wF82",
        "colab_type": "code",
        "colab": {
          "base_uri": "https://localhost:8080/",
          "height": 51
        },
        "outputId": "1a353346-1ddc-44eb-8df9-1012e266735c"
      },
      "source": [
        "# upzip file\n",
        "project_path = \"/content/drive/My Drive/kaggle/TweetSentiment\"\n",
        "os.chdir(project_path)\n",
        "!unzip train.csv.zip"
      ],
      "execution_count": null,
      "outputs": [
        {
          "output_type": "stream",
          "text": [
            "Archive:  train.csv.zip\n",
            "  inflating: train.csv               \n"
          ],
          "name": "stdout"
        }
      ]
    }
  ]
}